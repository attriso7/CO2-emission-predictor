{
 "cells": [
  {
   "cell_type": "markdown",
   "id": "c6bd0cc8-56c8-4516-816c-d39fe8278255",
   "metadata": {},
   "source": [
    "# CO2-emission-predictor\n",
    "\n",
    "<span style=\"font-size:26px; font-weight:bold; font-style:italic; color:#FCF3CF;\">Using Linear Regression to predict the CO<sub>2</sub> emission of Cars</span>"
   ]
  },
  {
   "cell_type": "markdown",
   "id": "ca0154bc-7316-4bbe-a0e4-b7d1d474258a",
   "metadata": {},
   "source": [
    "In this project i have demonstrated my skill in Machne Learning (Linear regression) to predict CO<sub>2</sub> emissions of cars. <br>\n",
    "The model takes scaled input of Engine Size (L), Cylinders, Fuel Consumption (L/100Km), Hwy (L/100 km) and Outputs CO<sub>2</sub>. <br>\n",
    "The model has been tested and evaluated on two set for testing and cross validation and an $R^2$ value of 0.96 is obtained on the Cross validation set."
   ]
  },
  {
   "cell_type": "code",
   "execution_count": null,
   "id": "651f6d53-92e7-4a3d-9be3-83963b8eeff1",
   "metadata": {},
   "outputs": [],
   "source": []
  }
 ],
 "metadata": {
  "kernelspec": {
   "display_name": "Python 3 (ipykernel)",
   "language": "python",
   "name": "python3"
  },
  "language_info": {
   "codemirror_mode": {
    "name": "ipython",
    "version": 3
   },
   "file_extension": ".py",
   "mimetype": "text/x-python",
   "name": "python",
   "nbconvert_exporter": "python",
   "pygments_lexer": "ipython3",
   "version": "3.11.1"
  }
 },
 "nbformat": 4,
 "nbformat_minor": 5
}
